{
 "cells": [
  {
   "cell_type": "code",
   "execution_count": 1,
   "id": "144ae8e4-be7a-4167-95f6-0badfd8c89cf",
   "metadata": {},
   "outputs": [
    {
     "name": "stdout",
     "output_type": "stream",
     "text": [
      "pygame 2.6.1 (SDL 2.28.4, Python 3.12.3)\n",
      "Hello from the pygame community. https://www.pygame.org/contribute.html\n",
      "Files uploaded to Dropbox successfully (overwritten if existed)!\n",
      "CPU Usage: 6.8%\n"
     ]
    }
   ],
   "source": [
    "import psutil\n",
    "import matplotlib.pyplot as plt\n",
    "from gtts import gTTS\n",
    "import pygame\n",
    "import time\n",
    "import dropbox\n",
    "from dropbox.exceptions import AuthError\n",
    "from dropbox.files import WriteMode\n",
    "\n",
    "# Replace with your Dropbox access token\n",
    "ACCESS_TOKEN = \"access token\"\n",
    "\n",
    "# Get CPU usage\n",
    "cpu_usage = psutil.cpu_percent(interval=1)\n",
    "\n",
    "# Generate bar chart\n",
    "plt.bar(['CPU Usage'], [cpu_usage], color='blue')\n",
    "plt.ylim(0, 100)\n",
    "plt.ylabel('Percentage (%)')\n",
    "plt.title('System CPU Usage')\n",
    "local_png = '/home/aivie/cpu_usage.png'\n",
    "plt.savefig(local_png)\n",
    "plt.close()\n",
    "\n",
    "# Generate MP3\n",
    "text = f\"The current CPU usage is {cpu_usage} percent.\"\n",
    "local_mp3 = '/home/aivie/cpu_usage.mp3'\n",
    "tts = gTTS(text=text, lang='en')\n",
    "tts.save(local_mp3)\n",
    "\n",
    "# Try to play audio in VM (optional, may fail due to sound card)\n",
    "pygame.mixer.pre_init(44100, -16, 2, 2048)\n",
    "pygame.mixer.init()\n",
    "try:\n",
    "    pygame.mixer.music.load(local_mp3)\n",
    "    pygame.mixer.music.play()\n",
    "    while pygame.mixer.music.get_busy():\n",
    "        time.sleep(1)\n",
    "except pygame.error as e:\n",
    "    print(f\"Pygame error: {e}\")\n",
    "\n",
    "# Upload to Dropbox\n",
    "dbx = dropbox.Dropbox(ACCESS_TOKEN)\n",
    "try:\n",
    "    with open(local_png, 'rb') as f:\n",
    "        dbx.files_upload(f.read(), '/cpu_usage.png', mode=WriteMode('overwrite'), mute=True)\n",
    "    with open(local_mp3, 'rb') as f:\n",
    "        dbx.files_upload(f.read(), '/cpu_usage.mp3', mode=WriteMode('overwrite'), mute=True)\n",
    "    print(\"Files uploaded to Dropbox successfully (overwritten if existed)!\")\n",
    "except AuthError as e:\n",
    "    print(f\"Dropbox auth error: {e}\")\n",
    "except Exception as e:\n",
    "    print(f\"Upload error: {e}\")\n",
    "\n",
    "print(f\"CPU Usage: {cpu_usage}%\")"
   ]
  },
  {
   "cell_type": "code",
   "execution_count": null,
   "id": "21878644-c3e3-4f92-a587-dfd05a9c4573",
   "metadata": {},
   "outputs": [],
   "source": []
  }
 ],
 "metadata": {
  "kernelspec": {
   "display_name": "Python 3 (ipykernel)",
   "language": "python",
   "name": "python3"
  },
  "language_info": {
   "codemirror_mode": {
    "name": "ipython",
    "version": 3
   },
   "file_extension": ".py",
   "mimetype": "text/x-python",
   "name": "python",
   "nbconvert_exporter": "python",
   "pygments_lexer": "ipython3",
   "version": "3.12.3"
  }
 },
 "nbformat": 4,
 "nbformat_minor": 5
}
